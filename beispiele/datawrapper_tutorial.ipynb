{
 "cells": [
  {
   "cell_type": "markdown",
   "metadata": {},
   "source": [
    "# Datawrapper Tutorial\n",
    "\n",
    "Datawrapper ist ein service um ansprechende, informative und einfach zu nutzende Visualisierungen zu erstellen. In diesem Tutorial werden einige Beispiele gezeigt um Visualisierungen mit Datawrapper zu erstellen.\n",
    "\n",
    "Für dieses Tutorial werden die Python Pakete `datawrapper`, `requests` und `pandas` benötigt, welche mit `pip` installiert werden können."
   ]
  },
  {
   "cell_type": "code",
   "execution_count": 10,
   "metadata": {},
   "outputs": [],
   "source": [
    "!pip --quiet install datawrapper requests pandas"
   ]
  },
  {
   "cell_type": "markdown",
   "metadata": {},
   "source": [
    "Datawrapper erfordert einen API Access Token, welcher für eingeloggte Benutzer auf der Webseite unter Settings->API-Tokens erstellt werden kann. Für die folgenden Beispiele werden die Berechtigungen Chart read, write und Visualization read benötigt."
   ]
  },
  {
   "cell_type": "code",
   "execution_count": 5,
   "metadata": {},
   "outputs": [
    {
     "name": "stdin",
     "output_type": "stream",
     "text": [
      "Bitte Access Token eingeben:  ································································\n"
     ]
    }
   ],
   "source": [
    "from getpass import getpass\n",
    "access_token = getpass(\"Bitte Access Token eingeben: \") "
   ]
  },
  {
   "cell_type": "code",
   "execution_count": 6,
   "metadata": {},
   "outputs": [],
   "source": [
    "from datawrapper import Datawrapper\n",
    "dw = Datawrapper(access_token = access_token)"
   ]
  },
  {
   "cell_type": "code",
   "execution_count": 12,
   "metadata": {},
   "outputs": [],
   "source": [
    "import requests\n",
    "import pandas as pd\n",
    "\n",
    "antwort = requests.get('https://www.openligadb.de/api/getmatchdata/bl1/2020')\n",
    "spiele = pd.DataFrame(antwort.json())"
   ]
  },
  {
   "cell_type": "code",
   "execution_count": 19,
   "metadata": {},
   "outputs": [
    {
     "data": {
      "text/plain": [
       "MatchID                                                           58577\n",
       "MatchDateTime                                       2020-09-18T20:30:00\n",
       "TimeZoneID                                      W. Europe Standard Time\n",
       "LeagueId                                                           4442\n",
       "LeagueName                              1. Fußball-Bundesliga 2020/2021\n",
       "MatchDateTimeUTC                                   2020-09-18T18:30:00Z\n",
       "Group                 {'GroupName': '1. Spieltag', 'GroupOrderID': 1...\n",
       "Team1                 {'TeamId': 40, 'TeamName': 'FC Bayern München'...\n",
       "Team2                 {'TeamId': 9, 'TeamName': 'FC Schalke 04', 'Sh...\n",
       "LastUpdateDateTime                              2020-09-20T16:15:35.617\n",
       "MatchIsFinished                                                    True\n",
       "MatchResults          [{'ResultID': 92144, 'ResultName': 'Endergebni...\n",
       "Goals                 [{'GoalID': 84638, 'ScoreTeam1': 1, 'ScoreTeam...\n",
       "Location              {'LocationID': 34, 'LocationCity': 'München', ...\n",
       "NumberOfViewers                                                     NaN\n",
       "Name: 0, dtype: object"
      ]
     },
     "execution_count": 19,
     "metadata": {},
     "output_type": "execute_result"
    }
   ],
   "source": [
    "spiele.iloc[0]"
   ]
  },
  {
   "cell_type": "code",
   "execution_count": 40,
   "metadata": {},
   "outputs": [
    {
     "ename": "IndexError",
     "evalue": "list index out of range",
     "output_type": "error",
     "traceback": [
      "\u001b[0;31m---------------------------------------------------------------------------\u001b[0m",
      "\u001b[0;31mIndexError\u001b[0m                                Traceback (most recent call last)",
      "\u001b[0;32m<ipython-input-40-cf577a76c5bd>\u001b[0m in \u001b[0;36m<module>\u001b[0;34m\u001b[0m\n\u001b[1;32m      1\u001b[0m \u001b[0;32mfor\u001b[0m \u001b[0mmatchResult\u001b[0m \u001b[0;32min\u001b[0m \u001b[0mspiele\u001b[0m\u001b[0;34m[\u001b[0m\u001b[0;34m'MatchResults'\u001b[0m\u001b[0;34m]\u001b[0m\u001b[0;34m:\u001b[0m\u001b[0;34m\u001b[0m\u001b[0;34m\u001b[0m\u001b[0m\n\u001b[0;32m----> 2\u001b[0;31m     \u001b[0mmatchResult\u001b[0m\u001b[0;34m[\u001b[0m\u001b[0;36m0\u001b[0m\u001b[0;34m]\u001b[0m\u001b[0;34m[\u001b[0m\u001b[0;34m'PointsTeam1'\u001b[0m\u001b[0;34m]\u001b[0m\u001b[0;34m\u001b[0m\u001b[0;34m\u001b[0m\u001b[0m\n\u001b[0m",
      "\u001b[0;31mIndexError\u001b[0m: list index out of range"
     ]
    }
   ],
   "source": []
  },
  {
   "cell_type": "code",
   "execution_count": null,
   "metadata": {},
   "outputs": [],
   "source": []
  }
 ],
 "metadata": {
  "kernelspec": {
   "display_name": "Python 3",
   "language": "python",
   "name": "python3"
  },
  "language_info": {
   "codemirror_mode": {
    "name": "ipython",
    "version": 3
   },
   "file_extension": ".py",
   "mimetype": "text/x-python",
   "name": "python",
   "nbconvert_exporter": "python",
   "pygments_lexer": "ipython3",
   "version": "3.7.9"
  }
 },
 "nbformat": 4,
 "nbformat_minor": 4
}
