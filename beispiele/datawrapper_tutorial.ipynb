{
 "cells": [
  {
   "cell_type": "markdown",
   "metadata": {},
   "source": [
    "# Datawrapper Tutorial\n",
    "\n",
    "Datawrapper ist ein service um ansprechende, informative und einfach zu nutzende Visualisierungen zu erstellen. In diesem Tutorial werden einige Beispiele gezeigt um Visualisierungen mit Datawrapper zu erstellen.\n",
    "\n",
    "Für dieses Tutorial werden die Python Pakete `datawrapper`, `requests` und `pandas` benötigt, welche mit `pip` installiert werden können."
   ]
  },
  {
   "cell_type": "code",
   "execution_count": 1,
   "metadata": {},
   "outputs": [],
   "source": [
    "!pip --quiet install datawrapper requests pandas"
   ]
  },
  {
   "cell_type": "markdown",
   "metadata": {},
   "source": [
    "Nun können Daten von der OpenLigaDB zu den Spieltagsergebnissen der Bundesliga Saison 2020/21 abgerufen werden und in einem DataFrame gespeichert werden."
   ]
  },
  {
   "cell_type": "code",
   "execution_count": 2,
   "metadata": {},
   "outputs": [],
   "source": [
    "import requests\n",
    "import pandas as pd\n",
    "\n",
    "antwort = requests.get('https://www.openligadb.de/api/getmatchdata/bl1/2020')\n",
    "spiele = pd.DataFrame(antwort.json())"
   ]
  },
  {
   "cell_type": "markdown",
   "metadata": {},
   "source": [
    "Das JSON Datenformat von OpenLigaDB enthält einige verschachtelte Datenstrukturen (z.B. Group, Team1, Team2) welche für ein Tabellenformat wie DataFrame nicht gut geeignet sind. Mittels der Funktion `head(n)` können die ersten `n` Werte des DataFrame ausgegeben werden um das Problem zu sehen."
   ]
  },
  {
   "cell_type": "code",
   "execution_count": 3,
   "metadata": {},
   "outputs": [
    {
     "data": {
      "text/html": [
       "<div>\n",
       "<style scoped>\n",
       "    .dataframe tbody tr th:only-of-type {\n",
       "        vertical-align: middle;\n",
       "    }\n",
       "\n",
       "    .dataframe tbody tr th {\n",
       "        vertical-align: top;\n",
       "    }\n",
       "\n",
       "    .dataframe thead th {\n",
       "        text-align: right;\n",
       "    }\n",
       "</style>\n",
       "<table border=\"1\" class=\"dataframe\">\n",
       "  <thead>\n",
       "    <tr style=\"text-align: right;\">\n",
       "      <th></th>\n",
       "      <th>MatchID</th>\n",
       "      <th>MatchDateTime</th>\n",
       "      <th>TimeZoneID</th>\n",
       "      <th>LeagueId</th>\n",
       "      <th>LeagueName</th>\n",
       "      <th>MatchDateTimeUTC</th>\n",
       "      <th>Group</th>\n",
       "      <th>Team1</th>\n",
       "      <th>Team2</th>\n",
       "      <th>LastUpdateDateTime</th>\n",
       "      <th>MatchIsFinished</th>\n",
       "      <th>MatchResults</th>\n",
       "      <th>Goals</th>\n",
       "      <th>Location</th>\n",
       "      <th>NumberOfViewers</th>\n",
       "    </tr>\n",
       "  </thead>\n",
       "  <tbody>\n",
       "    <tr>\n",
       "      <th>0</th>\n",
       "      <td>58577</td>\n",
       "      <td>2020-09-18T20:30:00</td>\n",
       "      <td>W. Europe Standard Time</td>\n",
       "      <td>4442</td>\n",
       "      <td>1. Fußball-Bundesliga 2020/2021</td>\n",
       "      <td>2020-09-18T18:30:00Z</td>\n",
       "      <td>{'GroupName': '1. Spieltag', 'GroupOrderID': 1...</td>\n",
       "      <td>{'TeamId': 40, 'TeamName': 'FC Bayern München'...</td>\n",
       "      <td>{'TeamId': 9, 'TeamName': 'FC Schalke 04', 'Sh...</td>\n",
       "      <td>2020-09-20T16:15:35.617</td>\n",
       "      <td>True</td>\n",
       "      <td>[{'ResultID': 92144, 'ResultName': 'Endergebni...</td>\n",
       "      <td>[{'GoalID': 84638, 'ScoreTeam1': 1, 'ScoreTeam...</td>\n",
       "      <td>{'LocationID': 34, 'LocationCity': 'München', ...</td>\n",
       "      <td>NaN</td>\n",
       "    </tr>\n",
       "  </tbody>\n",
       "</table>\n",
       "</div>"
      ],
      "text/plain": [
       "   MatchID        MatchDateTime               TimeZoneID  LeagueId  \\\n",
       "0    58577  2020-09-18T20:30:00  W. Europe Standard Time      4442   \n",
       "\n",
       "                        LeagueName      MatchDateTimeUTC  \\\n",
       "0  1. Fußball-Bundesliga 2020/2021  2020-09-18T18:30:00Z   \n",
       "\n",
       "                                               Group  \\\n",
       "0  {'GroupName': '1. Spieltag', 'GroupOrderID': 1...   \n",
       "\n",
       "                                               Team1  \\\n",
       "0  {'TeamId': 40, 'TeamName': 'FC Bayern München'...   \n",
       "\n",
       "                                               Team2       LastUpdateDateTime  \\\n",
       "0  {'TeamId': 9, 'TeamName': 'FC Schalke 04', 'Sh...  2020-09-20T16:15:35.617   \n",
       "\n",
       "   MatchIsFinished                                       MatchResults  \\\n",
       "0             True  [{'ResultID': 92144, 'ResultName': 'Endergebni...   \n",
       "\n",
       "                                               Goals  \\\n",
       "0  [{'GoalID': 84638, 'ScoreTeam1': 1, 'ScoreTeam...   \n",
       "\n",
       "                                            Location  NumberOfViewers  \n",
       "0  {'LocationID': 34, 'LocationCity': 'München', ...              NaN  "
      ]
     },
     "execution_count": 3,
     "metadata": {},
     "output_type": "execute_result"
    }
   ],
   "source": [
    "spiele.head(1)"
   ]
  },
  {
   "cell_type": "markdown",
   "metadata": {},
   "source": [
    "Die Daten können wie folgt entpackt werden. Zum einen wird die DataFrame Methode `explode()` genutzt, wodurch für Listen in einer verschachtelten Datenstruktur zusätzliche Zeilen pro Eintrag erstellt werden, bei denen alle Werte gleich sind außer denen aus der verschachtelten (explodierten) Datenstruktur. Danach wird der Dataframe wieder in ein JSON Format umgewandet und dieses mittels der DataFrame Methode `json_normalize()` importiert. Hierdurch werden für jeden Eintrag in verschachtelten Datenstrukturen eine eigene Spalte erstellt, wobei sich der Name der Spalte aus dem Namen der ursprünglichen Spalte und dem Namen des Schlüssels innerhalb der Spalte zusammensetzt (z.B. `Team1.TeamName`)."
   ]
  },
  {
   "cell_type": "code",
   "execution_count": 4,
   "metadata": {},
   "outputs": [],
   "source": [
    "import json\n",
    "json = json.loads(spiele.explode('MatchResults').explode('Goals').to_json(orient=\"records\"))    \n",
    "spiele = pd.json_normalize(json)"
   ]
  },
  {
   "cell_type": "markdown",
   "metadata": {},
   "source": [
    "Die resultierenden Spaltennamen können wie folgt ausgegeben werden:"
   ]
  },
  {
   "cell_type": "code",
   "execution_count": 5,
   "metadata": {},
   "outputs": [
    {
     "data": {
      "text/plain": [
       "['MatchID',\n",
       " 'MatchDateTime',\n",
       " 'TimeZoneID',\n",
       " 'LeagueId',\n",
       " 'LeagueName',\n",
       " 'MatchDateTimeUTC',\n",
       " 'LastUpdateDateTime',\n",
       " 'MatchIsFinished',\n",
       " 'NumberOfViewers',\n",
       " 'Group.GroupName',\n",
       " 'Group.GroupOrderID',\n",
       " 'Group.GroupID',\n",
       " 'Team1.TeamId',\n",
       " 'Team1.TeamName',\n",
       " 'Team1.ShortName',\n",
       " 'Team1.TeamIconUrl',\n",
       " 'Team1.TeamGroupName',\n",
       " 'Team2.TeamId',\n",
       " 'Team2.TeamName',\n",
       " 'Team2.ShortName',\n",
       " 'Team2.TeamIconUrl',\n",
       " 'Team2.TeamGroupName',\n",
       " 'MatchResults.ResultID',\n",
       " 'MatchResults.ResultName',\n",
       " 'MatchResults.PointsTeam1',\n",
       " 'MatchResults.PointsTeam2',\n",
       " 'MatchResults.ResultOrderID',\n",
       " 'MatchResults.ResultTypeID',\n",
       " 'MatchResults.ResultDescription',\n",
       " 'Goals.GoalID',\n",
       " 'Goals.ScoreTeam1',\n",
       " 'Goals.ScoreTeam2',\n",
       " 'Goals.MatchMinute',\n",
       " 'Goals.GoalGetterID',\n",
       " 'Goals.GoalGetterName',\n",
       " 'Goals.IsPenalty',\n",
       " 'Goals.IsOwnGoal',\n",
       " 'Goals.IsOvertime',\n",
       " 'Goals.Comment',\n",
       " 'Location.LocationID',\n",
       " 'Location.LocationCity',\n",
       " 'Location.LocationStadium',\n",
       " 'Goals',\n",
       " 'Location',\n",
       " 'MatchResults']"
      ]
     },
     "execution_count": 5,
     "metadata": {},
     "output_type": "execute_result"
    }
   ],
   "source": [
    "list(spiele.columns.values)"
   ]
  },
  {
   "cell_type": "markdown",
   "metadata": {},
   "source": [
    "Als nächstes werden wir visualisieren, in welchen Zeitintervallen wie viele Tore fallen (z.B. um zu sehen ob vor der Halbzeitpause besonders viele Tore fallen). Hierzu extrahieren wir zunächst die Information in welcher Minute ein Tor gefallen ist (`Goals.MatchMinute`) sowie die eindeutige Referenz eines jeden Tores (`Goals.GoalID`). Wie vorher beschrieben wurden viele Zeilen wiederholt, so dass es mehrere Zeilen pro Tor gibt. Mit der Funktion `drop_duplicates()` erhalten wir die eindeutigen Tore anhand der Tor-Referenz. Danach extrahieren wir noch `Goals.MatchMinute` und erhalten eine Series."
   ]
  },
  {
   "cell_type": "code",
   "execution_count": 6,
   "metadata": {},
   "outputs": [],
   "source": [
    "torverteilung = spiele[['Goals.MatchMinute','Goals.GoalID']].drop_duplicates()['Goals.MatchMinute']"
   ]
  },
  {
   "cell_type": "markdown",
   "metadata": {},
   "source": [
    "Als nächstes erstellen wir ein Histogramm der Tore in verschiedenen Zeitintervallen. Hierfür kann die Pandas Methode `cut()` verwendet werden, welche auch eine automatische Einteilung in Intervalle vornehmen kann. Wir möchten jedoch 5-Minuten Intervalle festlegen bis zur 90. Minuten sowie ein zusätzliches Intervall ab der 90. Minute. Die eigenen Intervalle können mit dem Parameter `bins` definiert werden. Hierbei wird zunächst mittels der `range` Funktion eine Liste von Zahlen von 0 bis 90 (range ist immer exklusive des letzten Wertes) erzeugt. Das Ergebnis wird mit Hilfe des Star Operator als einzelne Werte ausgegeben und mit dem letzten Wert `infinity` kombiniert. Abschließend werden mittels `value_counts()` die Anzahl Tore in den einzelnen Intervallen ausgegeben, wobei diese nicht nach der Anzahl der Tore sortiert werden sollen (`sort=False`)."
   ]
  },
  {
   "cell_type": "code",
   "execution_count": 7,
   "metadata": {},
   "outputs": [],
   "source": [
    "torverteilung = pd.cut(torverteilung,bins=[*range(0,95,5),float(\"inf\")]).value_counts(sort=False)"
   ]
  },
  {
   "cell_type": "markdown",
   "metadata": {},
   "source": [
    "Im nächsten Schritt wird noch der Index der Serie in `Zeitintervall` umbenannt und der Name der Series in `Anzahl Tore`. Hierdurch kann die Series direkt zur Visualisierung genutzt werden."
   ]
  },
  {
   "cell_type": "code",
   "execution_count": 8,
   "metadata": {},
   "outputs": [],
   "source": [
    "torverteilung = torverteilung.rename_axis(\"Zeitintervall\", axis=0).rename(\"Anzahl Tore\")\n",
    "torverteilung = torverteilung.to_frame().reset_index()"
   ]
  },
  {
   "cell_type": "markdown",
   "metadata": {},
   "source": [
    "Das Histogramm kann nun z.B. als CSV ausgegeben werden:"
   ]
  },
  {
   "cell_type": "code",
   "execution_count": 9,
   "metadata": {},
   "outputs": [
    {
     "name": "stdout",
     "output_type": "stream",
     "text": [
      ",Zeitintervall,Anzahl Tore\n",
      "0,\"(0.0, 5.0]\",20\n",
      "1,\"(5.0, 10.0]\",35\n",
      "2,\"(10.0, 15.0]\",24\n",
      "3,\"(15.0, 20.0]\",27\n",
      "4,\"(20.0, 25.0]\",28\n",
      "5,\"(25.0, 30.0]\",44\n",
      "6,\"(30.0, 35.0]\",39\n",
      "7,\"(35.0, 40.0]\",30\n",
      "8,\"(40.0, 45.0]\",37\n",
      "9,\"(45.0, 50.0]\",46\n",
      "10,\"(50.0, 55.0]\",39\n",
      "11,\"(55.0, 60.0]\",37\n",
      "12,\"(60.0, 65.0]\",38\n",
      "13,\"(65.0, 70.0]\",34\n",
      "14,\"(70.0, 75.0]\",31\n",
      "15,\"(75.0, 80.0]\",49\n",
      "16,\"(80.0, 85.0]\",27\n",
      "17,\"(85.0, 90.0]\",35\n",
      "18,\"(90.0, inf]\",32\n",
      "\n"
     ]
    }
   ],
   "source": [
    "print(torverteilung.to_csv())"
   ]
  },
  {
   "cell_type": "markdown",
   "metadata": {},
   "source": [
    "Nun werden die Daten mit [Datawrapper](datawrapper.de) visualisiert. Für die Verbindung mit Datawrapper wird ein API Access Token benötigt, welcher auf der Webseite unter Settings->API-Tokens erstellt werden kann."
   ]
  },
  {
   "cell_type": "code",
   "execution_count": null,
   "metadata": {},
   "outputs": [],
   "source": [
    "from getpass import getpass\n",
    "access_token = getpass(\"Bitte Access Token eingeben: \") "
   ]
  },
  {
   "cell_type": "markdown",
   "metadata": {},
   "source": [
    "Mit dem Access Token kann nun eine Verbindung zu Datawrapper hergestellt werden."
   ]
  },
  {
   "cell_type": "code",
   "execution_count": null,
   "metadata": {},
   "outputs": [],
   "source": [
    "from datawrapper import Datawrapper\n",
    "dw = Datawrapper(access_token = access_token)"
   ]
  },
  {
   "cell_type": "markdown",
   "metadata": {},
   "source": [
    "Nun kann eine Visualisierung der Daten erstellt werden. Die möglichen [Chart Types können der Datawrapper API Dokumentation](https://developer.datawrapper.de/docs/chart-types) entnommen werden."
   ]
  },
  {
   "cell_type": "code",
   "execution_count": null,
   "metadata": {},
   "outputs": [],
   "source": [
    "torverteilung_chart = dw.create_chart(title = \"Torverteilung (Geschossene Tore pro Zeitintervall)\", chart_type = 'd3-bars', data = torverteilung)"
   ]
  },
  {
   "cell_type": "markdown",
   "metadata": {},
   "source": [
    "Die erstellte Visualisierung kann mit `export_chart` heruntergeladen und angezeigt werden."
   ]
  },
  {
   "cell_type": "code",
   "execution_count": null,
   "metadata": {},
   "outputs": [],
   "source": [
    "dw.export_chart(torverteilung_chart['id'],output = 'png', filepath = 'chart.png', display = True)"
   ]
  },
  {
   "cell_type": "markdown",
   "metadata": {},
   "source": [
    "Abschließend kann die Visualisierung im Internet öffentlich bereitgestellt werden mit:"
   ]
  },
  {
   "cell_type": "code",
   "execution_count": null,
   "metadata": {},
   "outputs": [],
   "source": [
    "dw.publish_chart(torverteilung_chart['id'])"
   ]
  },
  {
   "cell_type": "markdown",
   "metadata": {},
   "source": [
    "Die URL kann abgerufen werden mit"
   ]
  },
  {
   "cell_type": "code",
   "execution_count": null,
   "metadata": {},
   "outputs": [],
   "source": [
    "dw.get_iframe_code(torverteilung_chart['id'])"
   ]
  }
 ],
 "metadata": {
  "kernelspec": {
   "display_name": "Python 3",
   "language": "python",
   "name": "python3"
  },
  "language_info": {
   "codemirror_mode": {
    "name": "ipython",
    "version": 3
   },
   "file_extension": ".py",
   "mimetype": "text/x-python",
   "name": "python",
   "nbconvert_exporter": "python",
   "pygments_lexer": "ipython3",
   "version": "3.7.10"
  }
 },
 "nbformat": 4,
 "nbformat_minor": 4
}
